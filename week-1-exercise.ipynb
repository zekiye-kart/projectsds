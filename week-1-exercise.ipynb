{
 "cells": [
  {
   "cell_type": "markdown",
   "metadata": {},
   "source": [
    "# Week 1"
   ]
  },
  {
   "cell_type": "markdown",
   "metadata": {},
   "source": [
    "### Exercise 1:\n",
    "###### Write a function that receives a list as parameter and return how many elements it has; if it doesn't have any element return an error."
   ]
  },
  {
   "cell_type": "code",
   "execution_count": 3,
   "metadata": {},
   "outputs": [
    {
     "name": "stdout",
     "output_type": "stream",
     "text": [
      "The list has 3 elements.\n"
     ]
    }
   ],
   "source": [
    "def how_many_elements(my_list):\n",
    "    \n",
    "    if len(my_list):\n",
    "        result = len(my_list)\n",
    "        print(f\"The list has {result} elements.\")\n",
    "        \n",
    "    if not my_list:\n",
    "        raise ValueError(\"The list is empty. Please provide a non-empty list.\")    \n",
    "    \n",
    "    \n",
    "try:\n",
    "   how_many_elements([3,5,7])     \n",
    "\n",
    "except ValueError as e:\n",
    "    print(f\"Error: {e}\")"
   ]
  },
  {
   "cell_type": "markdown",
   "metadata": {},
   "source": [
    "### Exercise 2:\n",
    "###### Write a function that receives a string as parameter and return the number of each character in it."
   ]
  },
  {
   "cell_type": "markdown",
   "metadata": {},
   "source": [
    "### Solution 1"
   ]
  },
  {
   "cell_type": "code",
   "execution_count": 28,
   "metadata": {},
   "outputs": [
    {
     "name": "stdout",
     "output_type": "stream",
     "text": [
      "'z' karakteri 1 kez geçiyor.\n",
      "'e' karakteri 2 kez geçiyor.\n",
      "'k' karakteri 2 kez geçiyor.\n",
      "'i' karakteri 1 kez geçiyor.\n",
      "'y' karakteri 1 kez geçiyor.\n",
      "' ' karakteri 1 kez geçiyor.\n",
      "'a' karakteri 1 kez geçiyor.\n",
      "'r' karakteri 1 kez geçiyor.\n",
      "'t' karakteri 1 kez geçiyor.\n"
     ]
    }
   ],
   "source": [
    "def funct(text):\n",
    "    character_dictionary = {}  #her bir karakterin sayısını saklamak için boş bir dictionary\n",
    "    \n",
    "    for character in text:        #girdi dizesindeki her karakter üzerinde döner ve sayıları dictionaryde günceller. \n",
    "        \n",
    "        if character in character_dictionary:                \n",
    "            character_dictionary[character] += 1\n",
    "            \n",
    "        else:\n",
    "            character_dictionary[character] = 1\n",
    "            \n",
    "    return character_dictionary  #fonksiyon sayıları içeren dictionary i döndürür.\n",
    "            \n",
    "    \n",
    "    \n",
    "text = \"zekiye kart\"\n",
    "result = funct(text)\n",
    "\n",
    "for x, y in result.items():\n",
    "    print(f\"'{x}' karakteri {y} kez geçiyor.\")\n"
   ]
  },
  {
   "cell_type": "markdown",
   "metadata": {},
   "source": [
    "### Solution 2"
   ]
  },
  {
   "cell_type": "code",
   "execution_count": 4,
   "metadata": {},
   "outputs": [
    {
     "name": "stdout",
     "output_type": "stream",
     "text": [
      "'z' karakteri 1 kez geçiyor.\n",
      "'e' karakteri 2 kez geçiyor.\n",
      "'k' karakteri 2 kez geçiyor.\n",
      "'i' karakteri 1 kez geçiyor.\n",
      "'y' karakteri 1 kez geçiyor.\n",
      "' ' karakteri 1 kez geçiyor.\n",
      "'a' karakteri 1 kez geçiyor.\n",
      "'r' karakteri 1 kez geçiyor.\n",
      "'t' karakteri 1 kez geçiyor.\n"
     ]
    }
   ],
   "source": [
    "from collections import Counter  # giriş dizesindeki her karakterin sayısını otomatik olarak sayan Counter sınıfı\n",
    "\n",
    "def funct(arr):                 #her benzersiz öğe için sayıları içeren bir dictionary benzeri bir nesneyi otomatik olarak başlatır\n",
    "    character_numbers = Counter(arr)\n",
    "    return character_numbers\n",
    "\n",
    "# Örnek kullanım:\n",
    "input_str = \"zekiye kart\"\n",
    "result = funct(input_str)\n",
    "\n",
    "for character, number in result.items():                   #Sonuç bir dictionary olarak döndürülür, burada anahtarlar character ve değerler ise numbers dır.\n",
    "    print(f\"'{character}' karakteri {number} kez geçiyor.\")"
   ]
  },
  {
   "cell_type": "code",
   "execution_count": 22,
   "metadata": {},
   "outputs": [
    {
     "name": "stdout",
     "output_type": "stream",
     "text": [
      "the string has 10 character.\n"
     ]
    }
   ],
   "source": [
    "def funct(metin):\n",
    "    if len(metin):\n",
    "        abc = []\n",
    "        abc = metin.split()\n",
    "        x = \"\".join(abc)\n",
    "        result = len(x)\n",
    "        print(f\"the string has {result} character.\")\n",
    "        \n",
    "funct(\"zekiye kart\")"
   ]
  }
 ],
 "metadata": {
  "kernelspec": {
   "display_name": "Python 3",
   "language": "python",
   "name": "python3"
  },
  "language_info": {
   "codemirror_mode": {
    "name": "ipython",
    "version": 3
   },
   "file_extension": ".py",
   "mimetype": "text/x-python",
   "name": "python",
   "nbconvert_exporter": "python",
   "pygments_lexer": "ipython3",
   "version": "3.10.13"
  }
 },
 "nbformat": 4,
 "nbformat_minor": 2
}
